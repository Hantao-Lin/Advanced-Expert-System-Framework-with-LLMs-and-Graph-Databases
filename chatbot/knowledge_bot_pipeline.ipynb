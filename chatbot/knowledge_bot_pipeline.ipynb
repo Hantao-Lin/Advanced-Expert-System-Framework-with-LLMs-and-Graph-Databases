{
 "cells": [
  {
   "cell_type": "code",
   "execution_count": 1,
   "metadata": {},
   "outputs": [
    {
     "name": "stdout",
     "output_type": "stream",
     "text": [
      "Note: you may need to restart the kernel to use updated packages.\n"
     ]
    },
    {
     "name": "stderr",
     "output_type": "stream",
     "text": [
      "\n",
      "[notice] A new release of pip is available: 24.0 -> 24.2\n",
      "[notice] To update, run: python.exe -m pip install --upgrade pip\n"
     ]
    }
   ],
   "source": []
  },
  {
   "cell_type": "markdown",
   "metadata": {},
   "source": [
    "# Knowledgraph Pipeline\n",
    "\n",
    "\n",
    "## Contributers:\n",
    "Tom Hargrove\n",
    "Carl Koster\n",
    "Hantao Lin\n",
    "Allen Wang\n",
    "\n",
    "## Description"
   ]
  },
  {
   "cell_type": "code",
   "execution_count": null,
   "metadata": {},
   "outputs": [],
   "source": [
    "%pip install --upgrade --quiet  langchain langchain-community langchain-openai langchain-experimental neo4j"
   ]
  },
  {
   "cell_type": "code",
   "execution_count": 3,
   "metadata": {},
   "outputs": [],
   "source": [
    "import os\n",
    "import time\n",
    "import random\n",
    "import logging\n",
    "from datetime import datetime\n",
    "from langchain_experimental.graph_transformers import LLMGraphTransformer\n",
    "from langchain_openai import ChatOpenAI\n",
    "from langchain_community.graphs import Neo4jGraph\n",
    "from langchain_core.documents import Document\n",
    "from dotenv import load_dotenv\n",
    "\n",
    "# Load environment variables from a .env file\n",
    "load_dotenv()\n",
    "\n",
    "# Initialize environment variables\n",
    "def init_env_vars():\n",
    "    os.environ[\"OPENAI_API_KEY\"] = os.environ.get(\"OPENAI_API_KEY\")\n",
    "    os.environ[\"NEO4J_URI\"] = os.environ.get(\"NEO4J_URI\")\n",
    "    os.environ[\"NEO4J_USERNAME\"] = os.environ.get(\"NEO4J_USERNAME\")\n",
    "    os.environ[\"NEO4J_PASSWORD\"] = os.environ.get(\"NEO4J_PASSWORD\")\n",
    "    os.environ[\"NEO4J_DB\"] = os.environ.get(\"NEO4J_DB\")\n",
    "    \n",
    "num_files_to_process = 1  # Set the number of files to sample\n",
    "\n",
    "folder_path = r'b:\\OneDrive\\Documents\\GitHub\\EA-Knowledge-Bot\\Final Deliverables\\Code\\SUMMARIES'\n",
    "log_dir = r'b:\\OneDrive\\Documents\\GitHub\\EA-Knowledge-Bot\\Final Deliverables\\Code\\LOGS'\n",
    "log_file = os.path.join(log_dir, 'processed_files_log.txt')\n",
    "os.makedirs(log_dir, exist_ok=True)  # Ensure the log directory exists"
   ]
  },
  {
   "cell_type": "markdown",
   "metadata": {},
   "source": [
    "# TEXT"
   ]
  },
  {
   "cell_type": "code",
   "execution_count": 4,
   "metadata": {},
   "outputs": [
    {
     "name": "stdout",
     "output_type": "stream",
     "text": [
      "Nodes: [Node(id='Confidentiality', type='Goal'), Node(id='Integrity', type='Goal'), Node(id='Availability', type='Goal'), Node(id='Privacy', type='Concept'), Node(id='Safety', type='Concept'), Node(id='Reliability', type='Concept'), Node(id='Survivability', type='Concept'), Node(id='Cyber Risk', type='Concept'), Node(id='Primer', type='Concept'), Node(id='Cyber Physical Systems Security', type='Concept'), Node(id='Approaches', type='Concept'), Node(id='Business Continuity Management', type='Concept'), Node(id='Organizational Resilience', type='Concept'), Node(id='Corporate Security', type='Concept'), Node(id='Risk Leaders', type='Concept'), Node(id='Cross Functional Collaboration', type='Concept'), Node(id='Decision Making', type='Concept'), Node(id='Resilience', type='Concept'), Node(id='Organization', type='Concept'), Node(id='Enterprise System', type='Concept'), Node(id='Processes', type='Concept'), Node(id='Information', type='Concept'), Node(id='Risk Practitioners', type='Concept'), Node(id='Risks', type='Concept'), Node(id='Treatments', type='Concept'), Node(id='Organizational Goals', type='Concept'), Node(id='Enterprise Risk Management', type='Concept'), Node(id='Decentralized Accountability', type='Concept'), Node(id='Industrial Internet Of Things', type='Concept'), Node(id='Industry 4.0', type='Concept'), Node(id='Smart Buildings', type='Concept'), Node(id='Smart Cities', type='Concept'), Node(id='Cybersecurity Roadmap', type='Concept'), Node(id='Organizational Recovery', type='Concept'), Node(id='Cyber Judgment', type='Concept'), Node(id='Informed Risk Decision Making', type='Concept'), Node(id='It Score', type='Concept'), Node(id='Security And Risk Management', type='Concept'), Node(id='Research', type='Concept'), Node(id='Business Continuity Capability', type='Concept'), Node(id='It Assets', type='Concept'), Node(id='It Resilience', type='Concept'), Node(id='Bcm', type='Concept'), Node(id='Management Discipline', type='Concept'), Node(id='Resilience', type='Concept'), Node(id='Diversity', type='Concept'), Node(id='Equity', type='Concept'), Node(id='Inclusion', type='Concept'), Node(id='Fraud', type='Concept'), Node(id='Peers', type='Concept'), Node(id='Technologies', type='Concept'), Node(id='Services', type='Concept'), Node(id='Business Value', type='Concept'), Node(id='Recovery Plan Template', type='Concept'), Node(id='Bcm Maturity', type='Concept'), Node(id='Cca Results Analysis', type='Concept'), Node(id='Fundamental Elements', type='Concept'), Node(id='Disaster Recovery Management', type='Concept'), Node(id='Bcm Ecosystem', type='Concept'), Node(id='Privacy Management', type='Concept'), Node(id='Strategies', type='Concept'), Node(id='Skills', type='Concept'), Node(id='People', type='Concept'), Node(id='Tools', type='Concept'), Node(id='Tech', type='Concept'), Node(id='Data Wealth', type='Concept'), Node(id='Hype Cycle', type='Concept'), Node(id='Market Guide', type='Concept'), Node(id='Subject Rights Request Automation', type='Concept'), Node(id='State Of Privacy', type='Concept'), Node(id='Global Overview', type='Concept'), Node(id='Regulatory Evolution', type='Concept'), Node(id='Essential Reading', type='Concept'), Node(id='Disaster Recovery Program', type='Concept'), Node(id='Supply Chain Resilience Framework', type='Concept'), Node(id='Case Study Criteria', type='Concept'), Node(id='Cyber Risk Quantification', type='Concept'), Node(id='Cloud Provider', type='Concept'), Node(id='Practical Privacy', type='Concept'), Node(id='Board Report', type='Concept'), Node(id='Cloud Strategy', type='Concept'), Node(id='Lawful Access Requirements', type='Concept'), Node(id='Adaptive Model', type='Concept'), Node(id='Cyber Risk Management', type='Concept'), Node(id='Workforce Resilience', type='Concept'), Node(id='Tools And Toolkits', type='Concept'), Node(id='Iam', type='Concept'), Node(id='Fraud Detection Initiative', type='Concept'), Node(id='Assets', type='Concept'), Node(id='Gartner Inc', type='Concept'), Node(id='Publication', type='Concept'), Node(id='Sources', type='Concept'), Node(id='Research Organization', type='Concept'), Node(id='Third Party', type='Concept'), Node(id='Guiding Principles On Independence And Objectivity', type='Concept')]\n",
      "Relationships: []\n",
      "<langchain_community.graphs.neo4j_graph.Neo4jGraph object at 0x000002B21F4E4490>\n",
      "Error connecting to Neo4j or visualizing graph: name 'visualize' is not defined\n"
     ]
    }
   ],
   "source": [
    "\n",
    "\n",
    "def has_been_processed(file_path, log_file):\n",
    "    if not os.path.exists(log_file):\n",
    "        return False\n",
    "    \n",
    "    with open(log_file, 'r') as f:\n",
    "        for line in f:\n",
    "            if file_path in line and \"SUCCESS\" in line:\n",
    "                return True\n",
    "    return False\n",
    "\n",
    "from datetime import datetime\n",
    "\n",
    "def log_processed_file(file_path, status, log_file, processing_time):\n",
    "    timestamp = datetime.now().strftime(\"%Y-%m-%d %H:%M:%S\")\n",
    "    file_name = os.path.basename(file_path)\n",
    "    log_entry = f\"{timestamp}, {processing_time:.2f}, {file_name}, NER, {status}\\n\"\n",
    "    \n",
    "    with open(log_file, 'a') as f:\n",
    "        f.write(log_entry)\n",
    "\n",
    "# Initialize language model\n",
    "def init_llm():\n",
    "    return ChatOpenAI(temperature=0, model_name=\"gpt-3.5-turbo\")\n",
    "\n",
    "# Initialize Neo4j graph connection\n",
    "def init_neo4j_graph():\n",
    "    try:\n",
    "        return Neo4jGraph()\n",
    "    except Exception as e:\n",
    "        print(f\"Error connecting to Neo4j: {str(e)}\")\n",
    "        return None\n",
    "\n",
    "# Load and process a file\n",
    "def process_file(file_path, log_file):\n",
    "    try:\n",
    "        start_time = time.time()\n",
    "        with open(file_path, 'r', encoding='utf-8') as file:\n",
    "            text = file.read()\n",
    "            document = Document(page_content=text)\n",
    "        processing_time = time.time() - start_time\n",
    "        log_processed_file(file_path, \"SUCCESS\", log_file, processing_time)\n",
    "        return document\n",
    "    except Exception as e:\n",
    "        processing_time = time.time() - start_time\n",
    "        log_processed_file(file_path, \"FAILED\", log_file, processing_time)\n",
    "        return None\n",
    "\n",
    "\n",
    "def process_random_files(folder_path, num_files, log_file):\n",
    "    if not os.path.exists(folder_path):\n",
    "        raise FileNotFoundError(f\"The directory '{folder_path}' does not exist.\")\n",
    "\n",
    "    files = [f for f in os.listdir(folder_path) if os.path.isfile(os.path.join(folder_path, f))]\n",
    "    random_sample = random.sample(files, k=min(num_files, len(files)))\n",
    "\n",
    "    documents = []\n",
    "    for file_name in random_sample:\n",
    "        file_path = os.path.join(folder_path, file_name)\n",
    "        if has_been_processed(file_path, log_file):\n",
    "            print(f\"Skipping file: {file_name}\")\n",
    "            continue\n",
    "\n",
    "        document = process_file(file_path, log_file)\n",
    "        if document:\n",
    "            documents.append(document)\n",
    "\n",
    "    return documents\n",
    "\n",
    "def main():\n",
    "    init_env_vars()\n",
    "    llm = init_llm()\n",
    "    graph = init_neo4j_graph()\n",
    "\n",
    "\n",
    "\n",
    "    \n",
    "\n",
    "    try:\n",
    "        processed_documents = process_random_files(folder_path, num_files_to_process, log_file)\n",
    "        \n",
    "        for document in processed_documents:\n",
    "            try:\n",
    "                graph_document = LLMGraphTransformer(llm=llm).convert_to_graph_documents([document])[0]\n",
    "                print(f\"Nodes: {graph_document.nodes}\")\n",
    "                print(f\"Relationships: {graph_document.relationships}\")\n",
    "\n",
    "                # Add graph document to Neo4j if the connection was successful\n",
    "                if graph is not None:\n",
    "                    graph.add_graph_documents([graph_document])\n",
    "            except Exception as e:\n",
    "                print(f\"Error processing document: {document.page_content[:30]}... : {str(e)}\")\n",
    "    except ModuleNotFoundError as e:\n",
    "        print(f\"Module error: {str(e)}\")\n",
    "    except Exception as e:\n",
    "        print(f\"An error occurred: {str(e)}\")\n",
    "\n",
    "    try:\n",
    "        print(graph)\n",
    "        visualize(graph)  # Visualize the graph using the graph object\n",
    "    except Exception as e:\n",
    "        print(f\"Error connecting to Neo4j or visualizing graph: {str(e)}\")\n",
    "\n",
    "if __name__ == \"__main__\":\n",
    "    main()"
   ]
  }
 ],
 "metadata": {
  "kernelspec": {
   "display_name": "autogenstudio",
   "language": "python",
   "name": "python3"
  },
  "language_info": {
   "codemirror_mode": {
    "name": "ipython",
    "version": 3
   },
   "file_extension": ".py",
   "mimetype": "text/x-python",
   "name": "python",
   "nbconvert_exporter": "python",
   "pygments_lexer": "ipython3",
   "version": "3.11.9"
  }
 },
 "nbformat": 4,
 "nbformat_minor": 2
}
